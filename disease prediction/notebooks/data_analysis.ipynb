{
 "cells": [
  {
   "cell_type": "markdown",
   "metadata": {},
   "source": [
    "# Analyse des données sur les maladies rénales\n",
    "\n",
    "Ce notebook est utilisé pour l'analyse exploratoire des données du fichier `kidney_disease.csv`. Nous allons examiner les statistiques descriptives, visualiser les données et identifier les caractéristiques importantes qui pourraient influencer la nécessité de dialyse."
   ]
  },
  {
   "cell_type": "code",
   "execution_count": 1,
   "metadata": {},
   "outputs": [],
   "source": [
    "import pandas as pd\n",
    "import matplotlib.pyplot as plt\n",
    "import seaborn as sns\n",
    "\n",
    "# Charger les données\n",
    "data = pd.read_csv('../data/kidney_disease.csv')\n",
    "data.head()"
   ]
  },
  {
   "cell_type": "code",
   "execution_count": 2,
   "metadata": {},
   "outputs": [],
   "source": [
    "# Statistiques descriptives\n",
    "data.describe()"
   ]
  },
  {
   "cell_type": "code",
   "execution_count": 3,
   "metadata": {},
   "outputs": [],
   "source": [
    "# Vérification des valeurs manquantes\n",
    "missing_values = data.isnull().sum()\n",
    "missing_values[missing_values > 0]"
   ]
  },
  {
   "cell_type": "code",
   "execution_count": 4,
   "metadata": {},
   "outputs": [],
   "source": [
    "# Visualisation de la distribution de l'âge\n",
    "plt.figure(figsize=(10, 6))\n",
    "sns.histplot(data['age'], bins=30, kde=True)\n",
    "plt.title('Distribution de l\'âge')\n",
    "plt.xlabel('Âge')\n",
    "plt.ylabel('Fréquence')\n",
    "plt.show()"
   ]
  },
  {
   "cell_type": "code",
   "execution_count": 5,
   "metadata": {},
   "outputs": [],
   "source": [
    "# Visualisation de la relation entre la pression artérielle et la nécessité de dialyse\n",
    "plt.figure(figsize=(10, 6))\n",
    "sns.boxplot(x='classification', y='bp', data=data)\n",
    "plt.title('Pression artérielle par classification de la maladie rénale')\n",
    "plt.xlabel('Classification')\n",
    "plt.ylabel('Pression artérielle')\n",
    "plt.show()"
   ]
  },
  {
   "cell_type": "code",
   "execution_count": 6,
   "metadata": {},
   "outputs": [],
   "source": [
    "# Visualisation de la corrélation entre les caractéristiques\n",
    "plt.figure(figsize=(12, 8))\n",
    "correlation = data.corr()\n",
    "sns.heatmap(correlation, annot=True, fmt='.2f', cmap='coolwarm')\n",
    "plt.title('Matrice de corrélation des caractéristiques')\n",
    "plt.show()"
   ]
  },
  {
   "cell_type": "markdown",
   "metadata": {},
   "source": [
    "## Conclusion\n",
    "\n",
    "Cette analyse exploratoire des données nous a permis de mieux comprendre les caractéristiques des patients atteints de maladies rénales. Les visualisations et les statistiques descriptives fournissent des informations précieuses pour le développement de modèles prédictifs."
   ]
  }
 ],
 "metadata": {
  "kernelspec": {
   "display_name": "Python 3",
   "language": "python",
   "name": "python3"
  },
  "language_info": {
   "codemirror_mode": {
    "name": "ipython",
    "version": 3
   },
   "file_extension": ".py",
   "mimetype": "text/x-python",
   "name": "python",
   "nbconvert_exporter": "python",
   "pygments_lexer": "ipython3",
   "version": "3.8.5"
  }
 },
 "nbformat": 4,
 "nbformat_minor": 4
}